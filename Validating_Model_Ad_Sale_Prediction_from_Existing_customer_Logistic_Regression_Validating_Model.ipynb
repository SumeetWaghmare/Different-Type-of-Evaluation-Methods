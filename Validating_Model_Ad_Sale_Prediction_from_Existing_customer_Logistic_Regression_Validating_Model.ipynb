{
 "cells": [
  {
   "cell_type": "markdown",
   "id": "20e472bf-3240-4f7d-b284-33cb819da691",
   "metadata": {},
   "source": [
    "<h1>Validating_Model_Ad_Sale_Prediction_from_Existing_customer_Logistic_Regression_Validating_Model</h1>"
   ]
  },
  {
   "cell_type": "code",
   "execution_count": 93,
   "id": "819abc50-19e0-494c-a772-396a3425035b",
   "metadata": {},
   "outputs": [
    {
     "name": "stdout",
     "output_type": "stream",
     "text": [
      "Shape of Dataset\n",
      " (400, 3)\n",
      "\n",
      "   Age  Salary  Status\n",
      "0   18   82000       0\n",
      "1   29   80000       0\n",
      "2   47   25000       1\n",
      "3   45   26000       1\n",
      "4   46   28000       1\n"
     ]
    }
   ],
   "source": [
    "#Importing library\n",
    "import numpy as np\n",
    "import pandas as pd\n",
    "\n",
    "#Loading the dataset\n",
    "df = pd.read_csv('DigitalAd_dataset.csv')\n",
    "\n",
    "#Summarize Dataset\n",
    "print(\"Shape of Dataset\\n\" , df.shape)\n",
    "print()\n",
    "print(df.head())"
   ]
  },
  {
   "cell_type": "code",
   "execution_count": 95,
   "id": "d3ed01a1-fd06-44ad-9432-bfecc80a3859",
   "metadata": {},
   "outputs": [
    {
     "name": "stdout",
     "output_type": "stream",
     "text": [
      "Input Variable - X\n",
      "      Age  Salary\n",
      "0     18   82000\n",
      "1     29   80000\n",
      "2     47   25000\n",
      "3     45   26000\n",
      "4     46   28000\n",
      "..   ...     ...\n",
      "395   35   65000\n",
      "396   26   80000\n",
      "397   26   52000\n",
      "398   20   86000\n",
      "399   32   18000\n",
      "\n",
      "[400 rows x 2 columns]\n",
      "Output Variable - Y\n",
      " 0      0\n",
      "1      0\n",
      "2      1\n",
      "3      1\n",
      "4      1\n",
      "      ..\n",
      "395    0\n",
      "396    0\n",
      "397    0\n",
      "398    0\n",
      "399    0\n",
      "Name: Status, Length: 400, dtype: int64\n"
     ]
    }
   ],
   "source": [
    "# Seggregating Dataset into X (Input Variable) & Y (Output Variable)\n",
    "\n",
    "    #Input Variable - X\n",
    "x = df.drop('Status', axis = 1)\n",
    "print(\"Input Variable - X\\n\" , x)\n",
    "\n",
    "    #Output Variable - Y\n",
    "y = df.Status\n",
    "print(\"Output Variable - Y\\n\" , y)\n"
   ]
  },
  {
   "cell_type": "code",
   "execution_count": 97,
   "id": "567600dc-43b8-4c75-b7b9-f1ef7809bd32",
   "metadata": {},
   "outputs": [
    {
     "data": {
      "text/plain": [
       "Age       False\n",
       "Salary    False\n",
       "Status    False\n",
       "dtype: bool"
      ]
     },
     "execution_count": 97,
     "metadata": {},
     "output_type": "execute_result"
    }
   ],
   "source": [
    "# Identify NaN Values in Dataset\n",
    "\n",
    "df.isna().any()"
   ]
  },
  {
   "cell_type": "code",
   "execution_count": 99,
   "id": "258b4c01-10de-4da4-b450-a4d5354f6cd9",
   "metadata": {},
   "outputs": [],
   "source": [
    "# Splitting Dataset into Train & Test\n",
    "\n",
    "from sklearn.model_selection import train_test_split\n",
    "x_train, x_test, y_train, y_test = train_test_split(x, y, test_size = 0.25, random_state = 0)"
   ]
  },
  {
   "cell_type": "code",
   "execution_count": 101,
   "id": "52623b40-9613-4f39-936d-76cae1d33d9e",
   "metadata": {},
   "outputs": [],
   "source": [
    "# Feature Scaling\n",
    "\n",
    "from sklearn.preprocessing import StandardScaler\n",
    "sc = StandardScaler()\n",
    "x_train = sc.fit_transform(x_train)\n",
    "x_test = sc.transform(x_test)"
   ]
  },
  {
   "cell_type": "code",
   "execution_count": 103,
   "id": "a75affa4-3478-462c-8c54-b6a2a21bf367",
   "metadata": {},
   "outputs": [
    {
     "data": {
      "text/html": [
       "<style>#sk-container-id-2 {color: black;}#sk-container-id-2 pre{padding: 0;}#sk-container-id-2 div.sk-toggleable {background-color: white;}#sk-container-id-2 label.sk-toggleable__label {cursor: pointer;display: block;width: 100%;margin-bottom: 0;padding: 0.3em;box-sizing: border-box;text-align: center;}#sk-container-id-2 label.sk-toggleable__label-arrow:before {content: \"▸\";float: left;margin-right: 0.25em;color: #696969;}#sk-container-id-2 label.sk-toggleable__label-arrow:hover:before {color: black;}#sk-container-id-2 div.sk-estimator:hover label.sk-toggleable__label-arrow:before {color: black;}#sk-container-id-2 div.sk-toggleable__content {max-height: 0;max-width: 0;overflow: hidden;text-align: left;background-color: #f0f8ff;}#sk-container-id-2 div.sk-toggleable__content pre {margin: 0.2em;color: black;border-radius: 0.25em;background-color: #f0f8ff;}#sk-container-id-2 input.sk-toggleable__control:checked~div.sk-toggleable__content {max-height: 200px;max-width: 100%;overflow: auto;}#sk-container-id-2 input.sk-toggleable__control:checked~label.sk-toggleable__label-arrow:before {content: \"▾\";}#sk-container-id-2 div.sk-estimator input.sk-toggleable__control:checked~label.sk-toggleable__label {background-color: #d4ebff;}#sk-container-id-2 div.sk-label input.sk-toggleable__control:checked~label.sk-toggleable__label {background-color: #d4ebff;}#sk-container-id-2 input.sk-hidden--visually {border: 0;clip: rect(1px 1px 1px 1px);clip: rect(1px, 1px, 1px, 1px);height: 1px;margin: -1px;overflow: hidden;padding: 0;position: absolute;width: 1px;}#sk-container-id-2 div.sk-estimator {font-family: monospace;background-color: #f0f8ff;border: 1px dotted black;border-radius: 0.25em;box-sizing: border-box;margin-bottom: 0.5em;}#sk-container-id-2 div.sk-estimator:hover {background-color: #d4ebff;}#sk-container-id-2 div.sk-parallel-item::after {content: \"\";width: 100%;border-bottom: 1px solid gray;flex-grow: 1;}#sk-container-id-2 div.sk-label:hover label.sk-toggleable__label {background-color: #d4ebff;}#sk-container-id-2 div.sk-serial::before {content: \"\";position: absolute;border-left: 1px solid gray;box-sizing: border-box;top: 0;bottom: 0;left: 50%;z-index: 0;}#sk-container-id-2 div.sk-serial {display: flex;flex-direction: column;align-items: center;background-color: white;padding-right: 0.2em;padding-left: 0.2em;position: relative;}#sk-container-id-2 div.sk-item {position: relative;z-index: 1;}#sk-container-id-2 div.sk-parallel {display: flex;align-items: stretch;justify-content: center;background-color: white;position: relative;}#sk-container-id-2 div.sk-item::before, #sk-container-id-2 div.sk-parallel-item::before {content: \"\";position: absolute;border-left: 1px solid gray;box-sizing: border-box;top: 0;bottom: 0;left: 50%;z-index: -1;}#sk-container-id-2 div.sk-parallel-item {display: flex;flex-direction: column;z-index: 1;position: relative;background-color: white;}#sk-container-id-2 div.sk-parallel-item:first-child::after {align-self: flex-end;width: 50%;}#sk-container-id-2 div.sk-parallel-item:last-child::after {align-self: flex-start;width: 50%;}#sk-container-id-2 div.sk-parallel-item:only-child::after {width: 0;}#sk-container-id-2 div.sk-dashed-wrapped {border: 1px dashed gray;margin: 0 0.4em 0.5em 0.4em;box-sizing: border-box;padding-bottom: 0.4em;background-color: white;}#sk-container-id-2 div.sk-label label {font-family: monospace;font-weight: bold;display: inline-block;line-height: 1.2em;}#sk-container-id-2 div.sk-label-container {text-align: center;}#sk-container-id-2 div.sk-container {/* jupyter's `normalize.less` sets `[hidden] { display: none; }` but bootstrap.min.css set `[hidden] { display: none !important; }` so we also need the `!important` here to be able to override the default hidden behavior on the sphinx rendered scikit-learn.org. See: https://github.com/scikit-learn/scikit-learn/issues/21755 */display: inline-block !important;position: relative;}#sk-container-id-2 div.sk-text-repr-fallback {display: none;}</style><div id=\"sk-container-id-2\" class=\"sk-top-container\"><div class=\"sk-text-repr-fallback\"><pre>LogisticRegression(random_state=0)</pre><b>In a Jupyter environment, please rerun this cell to show the HTML representation or trust the notebook. <br />On GitHub, the HTML representation is unable to render, please try loading this page with nbviewer.org.</b></div><div class=\"sk-container\" hidden><div class=\"sk-item\"><div class=\"sk-estimator sk-toggleable\"><input class=\"sk-toggleable__control sk-hidden--visually\" id=\"sk-estimator-id-2\" type=\"checkbox\" checked><label for=\"sk-estimator-id-2\" class=\"sk-toggleable__label sk-toggleable__label-arrow\">LogisticRegression</label><div class=\"sk-toggleable__content\"><pre>LogisticRegression(random_state=0)</pre></div></div></div></div></div>"
      ],
      "text/plain": [
       "LogisticRegression(random_state=0)"
      ]
     },
     "execution_count": 103,
     "metadata": {},
     "output_type": "execute_result"
    }
   ],
   "source": [
    "# Training\n",
    "\n",
    "from sklearn.linear_model import LogisticRegression\n",
    "model = LogisticRegression(random_state = 0)\n",
    "model.fit(x_train, y_train)"
   ]
  },
  {
   "cell_type": "code",
   "execution_count": 109,
   "id": "0f082d6d-8510-45d6-a4c1-ad936dd53a9c",
   "metadata": {},
   "outputs": [
    {
     "name": "stdout",
     "output_type": "stream",
     "text": [
      "[[0 1]\n",
      " [0 1]\n",
      " [1 1]\n",
      " [1 1]\n",
      " [0 0]\n",
      " [0 0]\n",
      " [0 0]\n",
      " [1 1]\n",
      " [0 0]\n",
      " [0 0]\n",
      " [0 0]\n",
      " [0 0]\n",
      " [0 0]\n",
      " [0 1]\n",
      " [0 1]\n",
      " [0 0]\n",
      " [1 1]\n",
      " [0 0]\n",
      " [0 0]\n",
      " [0 0]\n",
      " [0 0]\n",
      " [0 1]\n",
      " [0 0]\n",
      " [0 1]\n",
      " [0 0]\n",
      " [0 0]\n",
      " [0 0]\n",
      " [0 0]\n",
      " [1 1]\n",
      " [0 0]\n",
      " [0 0]\n",
      " [0 0]\n",
      " [0 0]\n",
      " [1 1]\n",
      " [0 0]\n",
      " [0 0]\n",
      " [0 0]\n",
      " [0 0]\n",
      " [0 0]\n",
      " [0 0]\n",
      " [0 0]\n",
      " [1 1]\n",
      " [0 1]\n",
      " [0 0]\n",
      " [0 1]\n",
      " [0 0]\n",
      " [0 1]\n",
      " [0 0]\n",
      " [0 0]\n",
      " [1 1]\n",
      " [1 1]\n",
      " [0 0]\n",
      " [1 1]\n",
      " [0 0]\n",
      " [0 0]\n",
      " [0 0]\n",
      " [0 0]\n",
      " [0 1]\n",
      " [0 0]\n",
      " [0 0]\n",
      " [0 0]\n",
      " [0 0]\n",
      " [0 1]\n",
      " [0 0]\n",
      " [0 0]\n",
      " [1 1]\n",
      " [0 1]\n",
      " [0 1]\n",
      " [0 1]\n",
      " [1 1]\n",
      " [0 1]\n",
      " [1 1]\n",
      " [0 0]\n",
      " [0 0]\n",
      " [0 0]\n",
      " [0 0]\n",
      " [0 0]\n",
      " [0 1]\n",
      " [0 1]\n",
      " [0 1]\n",
      " [1 1]\n",
      " [0 0]\n",
      " [0 0]\n",
      " [0 0]\n",
      " [0 0]\n",
      " [1 1]\n",
      " [0 0]\n",
      " [0 0]\n",
      " [0 0]\n",
      " [1 1]\n",
      " [0 0]\n",
      " [0 0]\n",
      " [0 0]\n",
      " [0 1]\n",
      " [1 1]\n",
      " [0 1]\n",
      " [0 0]\n",
      " [0 0]\n",
      " [1 1]\n",
      " [1 1]]\n"
     ]
    }
   ],
   "source": [
    "# Prediction for all Test Data\n",
    "\n",
    "y_pred = model.predict(x_test)\n",
    "print(np.column_stack((y_pred,y_test)))"
   ]
  },
  {
   "cell_type": "code",
   "execution_count": 115,
   "id": "6dcb8e93-2c45-4776-a573-740c17230bab",
   "metadata": {},
   "outputs": [
    {
     "name": "stdout",
     "output_type": "stream",
     "text": [
      "Confusion Matrix: \n",
      "[[61  0]\n",
      " [20 19]]\n"
     ]
    }
   ],
   "source": [
    "# Evaluting Model - Confusion Matrix\n",
    "\n",
    "from sklearn.metrics import confusion_matrix\n",
    "cm = confusion_matrix(y_test, y_pred)\n",
    "print(\"Confusion Matrix: \")\n",
    "print(cm)"
   ]
  },
  {
   "cell_type": "code",
   "execution_count": 123,
   "id": "9aa82aea-1ed7-439c-81ce-08432136477c",
   "metadata": {},
   "outputs": [
    {
     "name": "stdout",
     "output_type": "stream",
     "text": [
      "80.0\n"
     ]
    }
   ],
   "source": [
    "# Accuracy Score\n",
    "\n",
    "from sklearn.metrics import accuracy_score\n",
    "Accuracy = accuracy_score(y_test, y_pred)*100\n",
    "\n",
    "print(Accuracy)"
   ]
  },
  {
   "cell_type": "code",
   "execution_count": 131,
   "id": "87bbd9c4-9971-41f7-93e5-668539eb8f52",
   "metadata": {},
   "outputs": [
    {
     "name": "stdout",
     "output_type": "stream",
     "text": [
      "No Skill: ROC AUC=50.000\n",
      "Logistic Skill: ROC AUC=92.980\n"
     ]
    },
    {
     "data": {
      "image/png": "[encoded data removed]",
      "text/plain": [
       "<Figure size 640x480 with 1 Axes>"
      ]
     },
     "metadata": {},
     "output_type": "display_data"
    }
   ],
   "source": [
    "# Receiver Operating Curve - ROC Curve\n",
    "\n",
    "from sklearn.metrics import roc_auc_score, roc_curve\n",
    "import matplotlib.pyplot as plt\n",
    "\n",
    "nsProbability = [0 for _ in range(len(y_test))]\n",
    "lsProbability = model.predict_proba(x_test)\n",
    "# keep probabilities for the positive outcome only\n",
    "lsProbability = lsProbability[:, 1]\n",
    "# calculate scores\n",
    "nsAUC = roc_auc_score(y_test, nsProbability)\n",
    "lrAUC = roc_auc_score(y_test, lsProbability)\n",
    "# summarize scores\n",
    "print('No Skill: ROC AUC=%.3f' % (nsAUC*100))\n",
    "print('Logistic Skill: ROC AUC=%.3f' % (lrAUC*100))\n",
    "# calculate roc curves\n",
    "nsFP, nsTP, _ = roc_curve(y_test, nsProbability)\n",
    "lrFP, lrTP, _ = roc_curve(y_test, lsProbability)\n",
    "# plot the roc curve for the model\n",
    "plt.plot(nsFP, nsTP, linestyle='--', label='No Skill')\n",
    "plt.plot(lrFP, lrTP, marker='*', label='Logistic')\n",
    "plt.xlabel('False Positive Rate')\n",
    "plt.ylabel('True Positive Rate')\n",
    "# show the legend\n",
    "plt.legend()\n",
    "plt.show()"
   ]
  },
  {
   "cell_type": "code",
   "execution_count": 138,
   "id": "eb91f8ee-5a97-4c56-a0f0-0b7f986d9807",
   "metadata": {},
   "outputs": [
    {
     "name": "stdout",
     "output_type": "stream",
     "text": [
      "CROSS VALIDATION SCORE: 64.25%\n"
     ]
    }
   ],
   "source": [
    "# Cross Validation Score\n",
    "\n",
    "from sklearn.model_selection import cross_val_score\n",
    "from sklearn.model_selection import KFold\n",
    "kfold = KFold(n_splits=10, random_state=100,shuffle=True)\n",
    "result = cross_val_score(model, x, y, cv=kfold)\n",
    "print(\"CROSS VALIDATION SCORE: %.2f%%\" % (result.mean()*100.0))"
   ]
  },
  {
   "cell_type": "code",
   "execution_count": 146,
   "id": "a726cb64-7bba-4e06-b541-b00c4049d9ef",
   "metadata": {},
   "outputs": [
    {
     "name": "stdout",
     "output_type": "stream",
     "text": [
      "100\n",
      "39\n"
     ]
    },
    {
     "data": {
      "image/png": "[encoded data removed]",
      "text/plain": [
       "<Figure size 640x480 with 1 Axes>"
      ]
     },
     "metadata": {},
     "output_type": "display_data"
    }
   ],
   "source": [
    "#Cumulative Accuracy Profile Curve\n",
    "\n",
    "total = len(y_test)\n",
    "print(total)\n",
    "class_1_count = np.sum(y_test)\n",
    "print(class_1_count)\n",
    "class_0_count = total - class_1_count\n",
    "plt.plot([0, total], [0, class_1_count], c = 'r', linestyle = '--', label = 'Random Model')\n",
    "plt.plot([0, class_1_count, total],\n",
    "         [0, class_1_count, class_1_count],\n",
    "         c = 'grey',\n",
    "         linewidth = 2,\n",
    "         label = 'Perfect Model')\n",
    "\n",
    "probs = model.predict_proba(x_test)\n",
    "probs = probs[:, 1]\n",
    "model_y = [y for _, y in sorted(zip(probs, y_test), reverse = True)]\n",
    "y_values = np.append([0], np.cumsum(model_y))\n",
    "x_values = np.arange(0, total + 1)\n"
   ]
  },
  {
   "cell_type": "code",
   "execution_count": null,
   "id": "74a8eeae-7795-4987-a9d0-b57425876532",
   "metadata": {},
   "outputs": [],
   "source": []
  }
 ],
 "metadata": {
  "kernelspec": {
   "display_name": "anaconda-panel-2023.05-py310",
   "language": "python",
   "name": "conda-env-anaconda-panel-2023.05-py310-py"
  },
  "language_info": {
   "codemirror_mode": {
    "name": "ipython",
    "version": 3
   },
   "file_extension": ".py",
   "mimetype": "text/x-python",
   "name": "python",
   "nbconvert_exporter": "python",
   "pygments_lexer": "ipython3",
   "version": "3.11.5"
  }
 },
 "nbformat": 4,
 "nbformat_minor": 5
}
